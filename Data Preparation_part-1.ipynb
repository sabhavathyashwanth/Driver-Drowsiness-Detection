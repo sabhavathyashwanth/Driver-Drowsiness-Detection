{
 "cells": [
  {
   "cell_type": "markdown",
   "id": "946f5e07",
   "metadata": {},
   "source": [
    "# Driver Drowsiness Detection"
   ]
  },
  {
   "cell_type": "code",
   "execution_count": null,
   "id": "c7ff092f",
   "metadata": {},
   "outputs": [],
   "source": [
    "import os       #  coz we go through folders\n",
    "import shutil   #  copy paste the data\n",
    "import glob\n",
    "from tqdm import tqdm   # to show the visual bar"
   ]
  },
  {
   "cell_type": "markdown",
   "id": "9de0d7c8",
   "metadata": {},
   "source": [
    "-subject ID: xxx\n",
    "\n",
    "-image number: xxx\n",
    "\n",
    "-gender: 0 - male 1 - famale\n",
    "\n",
    "-glasses: 0 - no 1 - yes\n",
    "\n",
    "-eye state: 0 - close 1 - open\n",
    "\n",
    "-reflections: 0 - none 1 - low 2 - high\n",
    "\n",
    "-lighting conditions/image quality: 0 - bad 1 - good\n",
    "\n",
    "-sensor type: 01 - RealSense SR300 640x480 02 - IDS Imaging, 1280x1024 03 - Aptina Imagin 752x480\n",
    "\n",
    "-example: s001_00123_0_0_0_0_0_01.png"
   ]
  },
  {
   "cell_type": "markdown",
   "id": "f8bdd72e",
   "metadata": {},
   "source": [
    "It looks like you're importing the necessary modules for file operations (os and shutil), file searching (glob), and progress tracking (tqdm).\n",
    "- os: The os module provides a way of using operating system-dependent functionality in Python. It allows you to interact with the operating system in a platform-independent manner.\n",
    "- shutil: The shutil module provides a higher-level interface for file operations than the built-in os module. It includes functions for copying, moving, and deleting files and directories. \n",
    "- glob: The glob module provides a way to search for files using wildcard patterns similar to those used in Unix shell commands. It allows you to find files that match a specified pattern, such as all files with a certain extension or files with specific naming conventions.\n",
    "- tqdm: The tqdm module provides a fast, extensible progress bar for Python. It allows you to track the progress of iterations or tasks in a loop by wrapping an iterable with a progress bar. tqdm is especially useful when working with large datasets or long-running processes, as it provides visual feedback on the progress of your code."
   ]
  },
  {
   "cell_type": "code",
   "execution_count": 3,
   "id": "da4c0f88",
   "metadata": {},
   "outputs": [
    {
     "name": "stderr",
     "output_type": "stream",
     "text": [
      "0it [00:00, ?it/s]\n",
      "100%|██████████| 3242/3242 [00:40<00:00, 79.17it/s]\n",
      "100%|██████████| 1114/1114 [00:14<00:00, 79.51it/s]\n",
      "100%|██████████| 679/679 [00:09<00:00, 74.76it/s]\n",
      "100%|██████████| 1069/1069 [00:13<00:00, 79.12it/s]\n",
      "100%|██████████| 736/736 [00:08<00:00, 82.27it/s]\n",
      "100%|██████████| 1012/1012 [00:12<00:00, 79.70it/s]\n",
      "100%|██████████| 624/624 [00:08<00:00, 77.01it/s]\n",
      "100%|██████████| 832/832 [00:10<00:00, 78.44it/s]\n",
      "100%|██████████| 387/387 [00:04<00:00, 77.45it/s]\n",
      "100%|██████████| 399/399 [00:05<00:00, 75.73it/s]\n",
      "100%|██████████| 1648/1648 [00:20<00:00, 79.94it/s]\n",
      "100%|██████████| 8728/8728 [01:45<00:00, 82.55it/s] \n",
      "100%|██████████| 3605/3605 [00:41<00:00, 86.33it/s] \n",
      "100%|██████████| 8884/8884 [01:47<00:00, 82.56it/s] \n",
      "100%|██████████| 1132/1132 [00:13<00:00, 82.57it/s] \n",
      "100%|██████████| 1889/1889 [00:23<00:00, 81.44it/s]\n",
      "100%|██████████| 1648/1648 [00:20<00:00, 79.40it/s]\n",
      "100%|██████████| 4410/4410 [00:57<00:00, 77.18it/s]\n",
      "100%|██████████| 6175/6175 [01:20<00:00, 76.68it/s]\n",
      "100%|██████████| 704/704 [00:09<00:00, 74.48it/s]\n",
      "100%|██████████| 987/987 [00:13<00:00, 71.36it/s]\n",
      "100%|██████████| 382/382 [00:04<00:00, 86.35it/s]\n",
      "100%|██████████| 522/522 [00:06<00:00, 79.32it/s]\n",
      "100%|██████████| 752/752 [00:09<00:00, 80.74it/s]\n",
      "100%|██████████| 1502/1502 [00:18<00:00, 81.14it/s]\n",
      "100%|██████████| 1246/1246 [00:15<00:00, 80.43it/s]\n",
      "100%|██████████| 665/665 [00:07<00:00, 83.41it/s]\n",
      "100%|██████████| 736/736 [00:09<00:00, 79.57it/s]\n",
      "100%|██████████| 1393/1393 [00:17<00:00, 78.95it/s]\n",
      "100%|██████████| 1384/1384 [00:18<00:00, 76.46it/s]\n",
      "100%|██████████| 1738/1738 [00:22<00:00, 77.70it/s]\n",
      "100%|██████████| 6162/6162 [01:25<00:00, 72.26it/s]\n",
      "100%|██████████| 681/681 [00:09<00:00, 70.13it/s]\n",
      "100%|██████████| 739/739 [00:10<00:00, 69.47it/s]\n",
      "100%|██████████| 642/642 [00:09<00:00, 68.55it/s]\n",
      "100%|██████████| 6193/6193 [01:30<00:00, 68.67it/s]\n",
      "100%|██████████| 10257/10257 [02:59<00:00, 57.12it/s]\n"
     ]
    }
   ],
   "source": [
    "Raw_DIR = r'C:\\Users\\Dell\\OneDrive\\Desktop\\SEMESTERS\\SEM-6\\mini BTP\\mrlEyes_2018_01'\n",
    "for dirpath, dirname, filenames in os.walk(Raw_DIR):\n",
    "  for i in tqdm([f for f in filenames if f.endswith('.png')]):\n",
    "    if i.split('_')[4] == '0':\n",
    "      shutil.copy(src=dirpath+'/'+i, dst=r'C:\\Users\\Dell\\OneDrive\\Desktop\\SEMESTERS\\SEM-6\\mini BTP\\Prepared Data_1\\Close Eyes')\n",
    "\n",
    "    elif i.split('_')[4]=='1':\n",
    "      shutil.copy(src=dirpath+'/'+i, dst=r'C:\\Users\\Dell\\OneDrive\\Desktop\\SEMESTERS\\SEM-6\\mini BTP\\Prepared Data_1\\Open Eyes')\n"
   ]
  },
  {
   "cell_type": "code",
   "execution_count": null,
   "id": "13a96f8b",
   "metadata": {},
   "outputs": [],
   "source": []
  }
 ],
 "metadata": {
  "kernelspec": {
   "display_name": "Python 3 (ipykernel)",
   "language": "python",
   "name": "python3"
  },
  "language_info": {
   "codemirror_mode": {
    "name": "ipython",
    "version": 3
   },
   "file_extension": ".py",
   "mimetype": "text/x-python",
   "name": "python",
   "nbconvert_exporter": "python",
   "pygments_lexer": "ipython3",
   "version": "3.10.9"
  }
 },
 "nbformat": 4,
 "nbformat_minor": 5
}
